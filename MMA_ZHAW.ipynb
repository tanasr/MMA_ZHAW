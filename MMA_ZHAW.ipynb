{
 "cells": [
  {
   "cell_type": "code",
   "execution_count": null,
   "metadata": {},
   "outputs": [
    {
     "ename": "",
     "evalue": "",
     "output_type": "error",
     "traceback": [
      "\u001b[1;31mRunning cells with '/usr/local/bin/python3.8' requires the ipykernel package.\n",
      "\u001b[1;31mRun the following command to install 'ipykernel' into the Python environment. \n",
      "\u001b[1;31mCommand: '/usr/local/bin/python3.8 -m pip install ipykernel -U --user --force-reinstall'"
     ]
    }
   ],
   "source": [
    "import numpy as np\n",
    "from matplotlib import pyplot as plt"
   ]
  },
  {
   "cell_type": "code",
   "execution_count": null,
   "metadata": {},
   "outputs": [],
   "source": [
    "0.5**0 + 0.5**1 + 0.5**2 + 0.5**3 + 0.5**4"
   ]
  },
  {
   "cell_type": "code",
   "execution_count": null,
   "metadata": {},
   "outputs": [],
   "source": [
    "q = 0.5\n",
    "s = 0\n",
    "print(f\"s                    k\\n\")\n",
    "for k in range(0,30):\n",
    "    s = s+q**k\n",
    "    print(f'{s:<.9f} {k:>10}')\n",
    "print(f'\\nvia formula: {1/(1-q)}')"
   ]
  },
  {
   "cell_type": "markdown",
   "metadata": {},
   "source": [
    "Darstellung, wie die Koeffizienten c0, c1 und c2 das Polynom platzieren, ausrichten und formen"
   ]
  },
  {
   "cell_type": "code",
   "execution_count": null,
   "metadata": {},
   "outputs": [],
   "source": [
    "x = np.linspace(-2*np.pi,2*np.pi,1000)\n",
    "f = lambda x: c0 + c1*x + c2*x**2\n",
    "plt.plot(x,np.cos(x),'k')\n",
    "c0,c1,c2 = 0.5,0.2,-0.2\n",
    "plt.plot(x, f(x),label=f'$c_0$: {c0}, $c_1$: {c1}, $c_2$: {c2}',lw=1)\n",
    "c0,c1,c2 = 0.4,0.0,-0.05\n",
    "plt.plot(x, f(x),label=f'$c_0$: {c0}, $c_1$: {c1}, $c_2$: {c2}',lw=1)\n",
    "c0,c1,c2 = 1.0,0.02,0.2\n",
    "plt.plot(x, f(x),label=f'$c_0$: {c0}, $c_1$: {c1}, $c_2$: {c2}',lw=1)\n",
    "plt.legend(fontsize='8')\n",
    "plt.grid()\n",
    "ax = plt.gca()\n",
    "ax.set_ylim([-2,2])\n",
    "plt.show()"
   ]
  },
  {
   "cell_type": "markdown",
   "metadata": {},
   "source": [
    "Darstellung wie der Koeffizient c2 das Polynom formt (gegeben sind c0 und c1, die bleiben konstant)"
   ]
  },
  {
   "cell_type": "code",
   "execution_count": null,
   "metadata": {},
   "outputs": [],
   "source": [
    "c0 = 1; c1 = 0\n",
    "x = np.linspace(-2*np.pi,2*np.pi,1000)\n",
    "P2 = lambda x: c0 + c1*x + c2*x**2\n",
    "for c2 in np.arange(-1,1,0.45):\n",
    "    plt.plot(x,np.cos(x),'k')\n",
    "    plt.plot(x, P2(x),label=f'{c0},{c1},{c2}',lw=1)\n",
    "ax = plt.gca()\n",
    "ax.set_ylim([-2,2])\n",
    "plt.grid()\n",
    "plt.show()"
   ]
  },
  {
   "cell_type": "markdown",
   "metadata": {},
   "source": [
    "Nun bilden wir das Taylor Polynom 2. Grades um x = 0 der funktion cos(x)\n"
   ]
  },
  {
   "cell_type": "code",
   "execution_count": null,
   "metadata": {},
   "outputs": [],
   "source": [
    "c0 = 1; c1 = 0; c2 = -1/2\n",
    "x = np.linspace(-np.pi,np.pi,1000)\n",
    "P2 = lambda x: c0 + c1*x + c2*x**2\n",
    "\n",
    "plt.plot(x,np.cos(x),'k')\n",
    "plt.plot(x, f(x),label=f'{c0},{c1},{c2}',lw=1)\n",
    "ax = plt.gca()\n",
    "ax.set_ylim([-1.25,1.25])\n",
    "plt.legend()\n",
    "plt.grid()\n",
    "plt.show()\n",
    "\n",
    "\n",
    "# überprüfe mathematisch den wert der echten funktion bei x = 0.22 und des polynoms bei x = 0.22\n",
    "x0 = 0.22\n",
    "true = np.cos(x0)\n",
    "approx = P2(x0)\n",
    "err = np.abs(true-approx)\n",
    "print(f'true value: {true:.5f}, approx value: {approx:.5f}, error: {err:.5f}')"
   ]
  },
  {
   "cell_type": "markdown",
   "metadata": {},
   "source": [
    "Die Approximation ist sehr gut wenn wir uns nicht weit entfernen vom zentralen punkt x = 0. Bei der Stelle x = 1 erkennt man bereits eine Abweichung, und je weiter wir uns wegbewegen von x = 0, desto schlechter entspricht das Taylor Polynom der Zielfunktion. Bei x = 2 ist die Abweichung zur echten Funktion sehr gross, das heisst das Polynom kann nicht mehr als gute Approximation genommen werden"
   ]
  },
  {
   "cell_type": "code",
   "execution_count": null,
   "metadata": {},
   "outputs": [],
   "source": [
    "x0 = 1\n",
    "true = np.cos(x0)\n",
    "approx = P2(x0)\n",
    "err = np.abs(true-approx)\n",
    "print(f'true value: {true:.5f}, approx value: {approx:.5f}, error: {err:.5f}')\n",
    "\n",
    "\n",
    "x0 = 2\n",
    "true = np.cos(x0)\n",
    "approx = P2(x0)\n",
    "err = np.abs(true-approx)\n",
    "print(f'true value: {true:.5f}, approx value: {approx:.5f}, error: {err:.5f}')"
   ]
  },
  {
   "cell_type": "markdown",
   "metadata": {},
   "source": [
    "Natürlich kann das Polynom vebessert werden indem man Terme von höherer Ordnung hinzunehmen. Bspw. kann eine bessere Approximation durch das Hinzufügen von den weiteren Koeffizienten (c3) und c4 vebessert werden:\n"
   ]
  },
  {
   "cell_type": "code",
   "execution_count": null,
   "metadata": {},
   "outputs": [],
   "source": [
    "c0 = 1; c1 = 0; c2 = -1/2; c3 = 0; c4 = 1/24\n",
    "x = np.linspace(-np.pi,np.pi,1000)\n",
    "P4 = lambda x: c0 + c1*x + c2*x**2 + c3*x**3 + c4*x**4\n",
    "\n",
    "plt.plot(x,np.cos(x),'k')\n",
    "plt.plot(x,P2(x),lw=1, label=r'$P_2(x)$')\n",
    "plt.plot(x, P4(x),lw=1, label=r'$P_4(x)$')\n",
    "ax = plt.gca()\n",
    "ax.set_ylim([-1.25,1.25])\n",
    "plt.grid()\n",
    "plt.show()"
   ]
  },
  {
   "cell_type": "markdown",
   "metadata": {},
   "source": [
    "Vergleichen wir nun die beiden Polynome, sieht man deutlich wie das Polynom P4 (4. Grades) die Funktion cos(x) um den Ursprung x = 0 besser approximiert. So ist auch gut ersichtlich, wie das Polynom bei x = 1 näher an cos(x) liegt und somit an dieser Stelle einen genaueren Wert liefert: "
   ]
  },
  {
   "cell_type": "code",
   "execution_count": null,
   "metadata": {},
   "outputs": [],
   "source": [
    "\n",
    "x0 = 1\n",
    "true = np.cos(x0)\n",
    "approxP2 = P2(x0)\n",
    "approxP4 = P4(x0)\n",
    "errP2 = np.abs(true-approxP2)\n",
    "errP4 = np.abs(true-approxP4)\n",
    "print(f'true value: {true:.5f}, P2 approx: {approxP2:.5f}, error: {errP2:.5f}')\n",
    "print(f'true value: {true:.5f}, P4 approx: {approxP4:.5f}, error: {errP4:.5f}')"
   ]
  },
  {
   "cell_type": "code",
   "execution_count": null,
   "metadata": {},
   "outputs": [],
   "source": [
    "# noch deutlicher wird es weiter vom Ursprung, bei x = 2 ist das Polynom wesentlich genauer\n",
    "x0 = 2\n",
    "true = np.cos(x0)\n",
    "approxP2 = P2(x0)\n",
    "approxP4 = P4(x0)\n",
    "errP2 = np.abs(true-approxP2)\n",
    "errP4 = np.abs(true-approxP4)\n",
    "print(f'true value: {true:.5f}, P2 approx: {approxP2:.5f}, error: {errP2:.5f}')\n",
    "print(f'true value: {true:.5f}, P4 approx: {approxP4:.5f}, error: {errP4:.5f}')"
   ]
  },
  {
   "cell_type": "markdown",
   "metadata": {},
   "source": [
    "Um eine noch bessere Annäherung zu erhalten, muss das Polynom erweitert werden durch weitere Koeffizienten\n"
   ]
  },
  {
   "cell_type": "code",
   "execution_count": null,
   "metadata": {},
   "outputs": [],
   "source": [
    "c0 = 1; c1 = 0; c2 = -1/2; c3 = 0; c4 = 1/24; c5 = 0; c6 = -1/720\n",
    "x = np.linspace(-np.pi,np.pi,1000)\n",
    "P6 = lambda x: c0 + c1*x + c2*x**2 + c3*x**3 + c4*x**4 + c5*x**5 + c6*x**6\n",
    "\n",
    "plt.plot(x,np.cos(x),'k', label='exact')\n",
    "plt.plot(x,P2(x),lw=1, label=r'$P_2(x)$')\n",
    "plt.plot(x,P4(x),lw=1, label=r'$P_4(x)$')\n",
    "plt.plot(x,P6(x),lw=1, label=r'$P_6(x)$')\n",
    "ax = plt.gca()\n",
    "ax.set_ylim([-1.5,1.5])\n",
    "plt.legend()\n",
    "plt.title(r'approx. of cos(x) at $x_0 = 0$')\n",
    "plt.grid()\n",
    "plt.show()"
   ]
  }
 ],
 "metadata": {
  "kernelspec": {
   "display_name": "Python 3",
   "language": "python",
   "name": "python3"
  },
  "language_info": {
   "name": "python",
   "version": "3.8.15"
  }
 },
 "nbformat": 4,
 "nbformat_minor": 2
}
